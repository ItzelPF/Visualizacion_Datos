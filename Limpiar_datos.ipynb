{
  "nbformat": 4,
  "nbformat_minor": 0,
  "metadata": {
    "colab": {
      "provenance": [],
      "authorship_tag": "ABX9TyPaiVklB4L0fBDNUsJfgM6J",
      "include_colab_link": true
    },
    "kernelspec": {
      "name": "python3",
      "display_name": "Python 3"
    },
    "language_info": {
      "name": "python"
    }
  },
  "cells": [
    {
      "cell_type": "markdown",
      "metadata": {
        "id": "view-in-github",
        "colab_type": "text"
      },
      "source": [
        "<a href=\"https://colab.research.google.com/github/ItzelPF/Visualizacion_Datos/blob/main/Limpiar_datos.ipynb\" target=\"_parent\"><img src=\"https://colab.research.google.com/assets/colab-badge.svg\" alt=\"Open In Colab\"/></a>"
      ]
    },
    {
      "cell_type": "markdown",
      "source": [
        "# **Numpy: Librería Fundamental para Computación**"
      ],
      "metadata": {
        "id": "mhTaw7QaofhH"
      }
    },
    {
      "cell_type": "markdown",
      "source": [
        "Cargamos las librerías"
      ],
      "metadata": {
        "id": "QfvY_oRgozm5"
      }
    },
    {
      "cell_type": "code",
      "execution_count": null,
      "metadata": {
        "id": "8pCnscBzocVv"
      },
      "outputs": [],
      "source": [
        "import pandas as pd\n",
        "import numpy as np"
      ]
    },
    {
      "cell_type": "markdown",
      "source": [
        "Crear un DataFrame con datos sucios\n"
      ],
      "metadata": {
        "id": "TxjwO8gXow4D"
      }
    },
    {
      "cell_type": "code",
      "source": [
        "df = pd.DataFrame({\n",
        "    'A': [1, 2, np.nan, 4, 5],\n",
        "    'B': [5, 6, 7, np.nan, 9],\n",
        "    'C': ['a', 'b', 'c', 'd', 'e'],\n",
        "    'D': ['foo', 'bar', 'foo', 'bar', 'foo']\n",
        "})\n",
        "\n",
        "print(\"DataFrame original:\")\n",
        "print(df)"
      ],
      "metadata": {
        "colab": {
          "base_uri": "https://localhost:8080/"
        },
        "id": "rppMNNqrpNYf",
        "outputId": "8a9ea56e-69d8-46e1-c078-52b976823644"
      },
      "execution_count": null,
      "outputs": [
        {
          "output_type": "stream",
          "name": "stdout",
          "text": [
            "DataFrame original:\n",
            "     A    B  C    D\n",
            "0  1.0  5.0  a  foo\n",
            "1  2.0  6.0  b  bar\n",
            "2  NaN  7.0  c  foo\n",
            "3  4.0  NaN  d  bar\n",
            "4  5.0  9.0  e  foo\n"
          ]
        }
      ]
    },
    {
      "cell_type": "markdown",
      "source": [
        "Eliminar filas con valroes nulos\n"
      ],
      "metadata": {
        "id": "luSRoqWpqTJT"
      }
    },
    {
      "cell_type": "code",
      "source": [
        "df_clean = df.dropna()\n",
        "print('\\nDataFrame sin filas nulas;')\n",
        "print(df_clean)"
      ],
      "metadata": {
        "colab": {
          "base_uri": "https://localhost:8080/"
        },
        "id": "TUX0-UaUqWBA",
        "outputId": "4f84de9a-8335-4c20-f730-ec9aed541a1d"
      },
      "execution_count": null,
      "outputs": [
        {
          "output_type": "stream",
          "name": "stdout",
          "text": [
            "\n",
            "DataFrame sin filas nulas;\n",
            "     A    B  C    D\n",
            "0  1.0  5.0  a  foo\n",
            "1  2.0  6.0  b  bar\n",
            "4  5.0  9.0  e  foo\n"
          ]
        }
      ]
    },
    {
      "cell_type": "markdown",
      "source": [
        "Rellenar valores nulos"
      ],
      "metadata": {
        "id": "nW86LRnXrNNU"
      }
    },
    {
      "cell_type": "code",
      "source": [
        "df_filled = df.fillna(value={'A': df['A'].mean(), 'B': df ['B'].median()})\n",
        "print(\"\\nDataFrame con valores nulos rellenados:\")\n",
        "print(df_filled)"
      ],
      "metadata": {
        "colab": {
          "base_uri": "https://localhost:8080/"
        },
        "id": "k0jlEGzqrPnI",
        "outputId": "5c37eb67-2695-4013-c9eb-7b0ab0016af8"
      },
      "execution_count": null,
      "outputs": [
        {
          "output_type": "stream",
          "name": "stdout",
          "text": [
            "\n",
            "DataFrame con valores nulos rellenados:\n",
            "     A    B  C    D\n",
            "0  1.0  5.0  a  foo\n",
            "1  2.0  6.0  b  bar\n",
            "2  3.0  7.0  c  foo\n",
            "3  4.0  6.5  d  bar\n",
            "4  5.0  9.0  e  foo\n"
          ]
        }
      ]
    },
    {
      "cell_type": "markdown",
      "source": [
        "Eliminar duplicados\n"
      ],
      "metadata": {
        "id": "wrGe5TgasTdA"
      }
    },
    {
      "cell_type": "code",
      "source": [
        "df_no_duplicates = df.drop_duplicates(subset=['D'])\n",
        "print(\"\\nDataFrame sin duplicados en la columna D:\")\n",
        "print(df_no_duplicates)"
      ],
      "metadata": {
        "id": "lgSp5c-_sU9Y",
        "colab": {
          "base_uri": "https://localhost:8080/"
        },
        "outputId": "a4769c4a-e8c3-4f0a-cbf7-2272d62f4280"
      },
      "execution_count": 9,
      "outputs": [
        {
          "output_type": "stream",
          "name": "stdout",
          "text": [
            "\n",
            "DataFrame sin duplicados en la columna D:\n",
            "     A    B  C    D\n",
            "0  1.0  5.0  a  foo\n",
            "1  2.0  6.0  b  bar\n"
          ]
        }
      ]
    },
    {
      "cell_type": "markdown",
      "source": [
        "Renombrar columnas"
      ],
      "metadata": {
        "id": "DJMe3xyHui8x"
      }
    },
    {
      "cell_type": "code",
      "source": [
        "df_renamed = df.rename(columns= {'A': 'Alpha', 'B': 'Belta',\n",
        "                                 'C': 'Charly', 'D': 'Delta'})\n",
        "print(\"\\nDataFrame con columnas renombradas:\")\n",
        "print(df_renamed)"
      ],
      "metadata": {
        "colab": {
          "base_uri": "https://localhost:8080/"
        },
        "id": "ELgh_7HZukVV",
        "outputId": "04a1e515-a1a6-4cfe-91c2-4ff130ae4c1a"
      },
      "execution_count": 12,
      "outputs": [
        {
          "output_type": "stream",
          "name": "stdout",
          "text": [
            "\n",
            "DataFrame con columnas renombradas:\n",
            "   Alpha  Belta Charly Delta\n",
            "0    1.0    5.0      a   foo\n",
            "1    2.0    6.0      b   bar\n",
            "2    NaN    7.0      c   foo\n",
            "3    4.0    NaN      d   bar\n",
            "4    5.0    9.0      e   foo\n"
          ]
        }
      ]
    }
  ]
}