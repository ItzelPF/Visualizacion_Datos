{
  "nbformat": 4,
  "nbformat_minor": 0,
  "metadata": {
    "colab": {
      "provenance": [],
      "authorship_tag": "ABX9TyNClwEpRvfQ94zE2yM3UQyN",
      "include_colab_link": true
    },
    "kernelspec": {
      "name": "python3",
      "display_name": "Python 3"
    },
    "language_info": {
      "name": "python"
    }
  },
  "cells": [
    {
      "cell_type": "markdown",
      "metadata": {
        "id": "view-in-github",
        "colab_type": "text"
      },
      "source": [
        "<a href=\"https://colab.research.google.com/github/ItzelPF/Visualizacion_Datos/blob/main/Operaciones_basicas.ipynb\" target=\"_parent\"><img src=\"https://colab.research.google.com/assets/colab-badge.svg\" alt=\"Open In Colab\"/></a>"
      ]
    },
    {
      "cell_type": "code",
      "execution_count": 3,
      "metadata": {
        "id": "K7_0Dwdhve_3"
      },
      "outputs": [],
      "source": [
        "import pandas as pd\n"
      ]
    },
    {
      "cell_type": "code",
      "source": [
        "df = pd.DataFrame({\n",
        "    'Nombre': ['Ana', 'Juan', 'Maria', 'Carlos', 'Sofia'],\n",
        "    'Edad': [25, 30, 22, 28, 35],\n",
        "    'Ciudad': ['Madrid', 'Barcelona', 'Madrid', 'Valencia', 'Barcelona'],\n",
        "    'Puntuacion': [85,92,78,95,88]\n",
        "})\n",
        "\n",
        "print(\"DataFrame original:\")\n",
        "print(df)"
      ],
      "metadata": {
        "colab": {
          "base_uri": "https://localhost:8080/"
        },
        "id": "vSEqL4OCvk40",
        "outputId": "268a529a-5fa2-4b7e-a54c-871a0147b076"
      },
      "execution_count": 9,
      "outputs": [
        {
          "output_type": "stream",
          "name": "stdout",
          "text": [
            "DataFrame original:\n",
            "   Nombre  Edad     Ciudad  Puntuacion\n",
            "0     Ana    25     Madrid          85\n",
            "1    Juan    30  Barcelona          92\n",
            "2   Maria    22     Madrid          78\n",
            "3  Carlos    28   Valencia          95\n",
            "4   Sofia    35  Barcelona          88\n"
          ]
        }
      ]
    },
    {
      "cell_type": "markdown",
      "source": [
        "## **Filtrado**"
      ],
      "metadata": {
        "id": "ZittBo3Kwo6Q"
      }
    },
    {
      "cell_type": "code",
      "source": [
        "mayores_25 = df[df['Edad'] > 25]\n",
        "print(\"\\nPersonas mayores a 25 años:\")\n",
        "print(mayores_25)"
      ],
      "metadata": {
        "colab": {
          "base_uri": "https://localhost:8080/"
        },
        "id": "UNB-mLurwp-Y",
        "outputId": "fd036341-d8d2-4bfd-e245-b2a34defc6a7"
      },
      "execution_count": 10,
      "outputs": [
        {
          "output_type": "stream",
          "name": "stdout",
          "text": [
            "\n",
            "Personas mayores a 25 años:\n",
            "   Nombre  Edad     Ciudad  Puntuacion\n",
            "1    Juan    30  Barcelona          92\n",
            "3  Carlos    28   Valencia          95\n",
            "4   Sofia    35  Barcelona          88\n"
          ]
        }
      ]
    },
    {
      "cell_type": "markdown",
      "source": [
        "## **Agrupación y agregación**"
      ],
      "metadata": {
        "id": "cG3ZvwPoxRkR"
      }
    },
    {
      "cell_type": "code",
      "source": [
        "resultados = df[df['Edad'] > 25].groupby('Ciudad')['Puntuacion'].max()\n",
        "print(\"\\nMáxima puntuación por ciudad para personas mayores de 25 años:\")\n",
        "print(resultados)\n"
      ],
      "metadata": {
        "colab": {
          "base_uri": "https://localhost:8080/"
        },
        "id": "JnqexX4uw9pA",
        "outputId": "4719e787-6768-4f95-f9f7-92803383fc25"
      },
      "execution_count": 11,
      "outputs": [
        {
          "output_type": "stream",
          "name": "stdout",
          "text": [
            "\n",
            "Máxima puntuación por ciudad para personas mayores de 25 años:\n",
            "Ciudad\n",
            "Barcelona    92\n",
            "Valencia     95\n",
            "Name: Puntuacion, dtype: int64\n"
          ]
        }
      ]
    },
    {
      "cell_type": "markdown",
      "source": [
        "# **Filtrado y agregación combinados**"
      ],
      "metadata": {
        "id": "5t2eX6Yyx0vi"
      }
    },
    {
      "cell_type": "code",
      "source": [],
      "metadata": {
        "id": "OJ77kn1fyXiC"
      },
      "execution_count": null,
      "outputs": []
    }
  ]
}