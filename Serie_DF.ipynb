{
  "nbformat": 4,
  "nbformat_minor": 0,
  "metadata": {
    "colab": {
      "provenance": [],
      "authorship_tag": "ABX9TyNwZh5AtmdW+scFcrujFpMD",
      "include_colab_link": true
    },
    "kernelspec": {
      "name": "python3",
      "display_name": "Python 3"
    },
    "language_info": {
      "name": "python"
    }
  },
  "cells": [
    {
      "cell_type": "markdown",
      "metadata": {
        "id": "view-in-github",
        "colab_type": "text"
      },
      "source": [
        "<a href=\"https://colab.research.google.com/github/ItzelPF/Visualizacion_Datos/blob/main/Serie_DF.ipynb\" target=\"_parent\"><img src=\"https://colab.research.google.com/assets/colab-badge.svg\" alt=\"Open In Colab\"/></a>"
      ]
    },
    {
      "cell_type": "markdown",
      "source": [
        "# **Ejercicio**\n",
        "## Teoría:\n",
        "Explicación de Series y DataFrame diferencias y usos de cada estrucutra"
      ],
      "metadata": {
        "id": "FC0gZ3ruRvx6"
      }
    },
    {
      "cell_type": "code",
      "execution_count": 1,
      "metadata": {
        "id": "lEVGWBWmRsU2"
      },
      "outputs": [],
      "source": [
        "import pandas as pd\n",
        "import numpy as np\n",
        "\n"
      ]
    },
    {
      "cell_type": "markdown",
      "source": [
        "# **Crear una serie**"
      ],
      "metadata": {
        "id": "XKBOBqRuTDIH"
      }
    },
    {
      "cell_type": "code",
      "source": [
        "s = pd.Series([1, 3, 5, np.nan, 6, 8])\n",
        "print(\"Serie:\")\n",
        "print(s)"
      ],
      "metadata": {
        "colab": {
          "base_uri": "https://localhost:8080/"
        },
        "id": "rua8U--2Tfy8",
        "outputId": "5410420e-1546-4719-f287-de24be6dfb1a"
      },
      "execution_count": 3,
      "outputs": [
        {
          "output_type": "stream",
          "name": "stdout",
          "text": [
            "Serie:\n",
            "0    1.0\n",
            "1    3.0\n",
            "2    5.0\n",
            "3    NaN\n",
            "4    6.0\n",
            "5    8.0\n",
            "dtype: float64\n"
          ]
        }
      ]
    },
    {
      "cell_type": "markdown",
      "source": [
        "# **DataFrame**"
      ],
      "metadata": {
        "id": "_XZ_xGR9T4o5"
      }
    },
    {
      "cell_type": "code",
      "source": [
        "df = pd.DataFrame({\n",
        "    'A': [1, 2, 3, 4],\n",
        "    'B': pd.Timestamp('20230101'),\n",
        "    'C': pd.Series(1, index=list(range(4)), dtype='float32'),\n",
        "    'D': np.array([3] * 4, dtype='int32'),\n",
        "    'E': pd.Categorical([\"test\", \"train\", \"test\", \"train\"]),\n",
        "    'F': 'foo'\n",
        "})\n",
        "print(\"\\nDataFrame:\")\n",
        "print(df)"
      ],
      "metadata": {
        "colab": {
          "base_uri": "https://localhost:8080/"
        },
        "id": "iahlxPQ4UATJ",
        "outputId": "b457d176-f3c0-47f0-e26e-130445f78aec"
      },
      "execution_count": 6,
      "outputs": [
        {
          "output_type": "stream",
          "name": "stdout",
          "text": [
            "\n",
            "DataFrame:\n",
            "   A          B    C  D      E    F\n",
            "0  1 2023-01-01  1.0  3   test  foo\n",
            "1  2 2023-01-01  1.0  3  train  foo\n",
            "2  3 2023-01-01  1.0  3   test  foo\n",
            "3  4 2023-01-01  1.0  3  train  foo\n"
          ]
        }
      ]
    },
    {
      "cell_type": "markdown",
      "source": [
        "# **Explorar DataFrane**"
      ],
      "metadata": {
        "id": "CFyZYZwiV0zY"
      }
    },
    {
      "cell_type": "code",
      "source": [
        "print(\"\\nTipos de datos:\")\n",
        "print(df.dtypes)\n",
        "print(\"\\nPrimeras 2 filas:\")\n",
        "print(df.head(2))\n",
        "print(\"\\nUltimas 2 filas:\")\n",
        "print(df.tail(2))"
      ],
      "metadata": {
        "colab": {
          "base_uri": "https://localhost:8080/"
        },
        "id": "UXpbc8yKV2OG",
        "outputId": "7d0c2e14-d24d-4db6-b70e-3ac581759fa0"
      },
      "execution_count": 7,
      "outputs": [
        {
          "output_type": "stream",
          "name": "stdout",
          "text": [
            "\n",
            "Tipos de datos:\n",
            "A            int64\n",
            "B    datetime64[s]\n",
            "C          float32\n",
            "D            int32\n",
            "E         category\n",
            "F           object\n",
            "dtype: object\n",
            "\n",
            "Primeras 2 filas:\n",
            "   A          B    C  D      E    F\n",
            "0  1 2023-01-01  1.0  3   test  foo\n",
            "1  2 2023-01-01  1.0  3  train  foo\n",
            "\n",
            "Ultimas 2 filas:\n",
            "   A          B    C  D      E    F\n",
            "2  3 2023-01-01  1.0  3   test  foo\n",
            "3  4 2023-01-01  1.0  3  train  foo\n"
          ]
        }
      ]
    }
  ]
}